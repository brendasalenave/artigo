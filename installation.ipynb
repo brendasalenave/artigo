{
 "cells": [
  {
   "cell_type": "code",
   "execution_count": 1,
   "metadata": {},
   "outputs": [
    {
     "name": "stdout",
     "output_type": "stream",
     "text": [
      "Requirement already satisfied: textract in c:\\users\\brenda\\appdata\\local\\programs\\python\\python36\\lib\\site-packages\\textract-1.6.1-py3.6.egg (1.6.1)\n",
      "Collecting argcomplete==1.8.2 (from textract)\n",
      "  Using cached https://files.pythonhosted.org/packages/f0/0f/f965f1520e6ba24b63320919eecfbe3d03debd32402e0c61a08e8fa02d17/argcomplete-1.8.2-py2.py3-none-any.whl\n",
      "Collecting chardet==2.3.0 (from textract)\n",
      "  Using cached https://files.pythonhosted.org/packages/7e/5c/605ca2daa5cf21c87690d8fe6ab05a6f2278c451f4ede6456dd26453f4bd/chardet-2.3.0-py2.py3-none-any.whl\n",
      "Collecting python-pptx==0.6.5 (from textract)\n",
      "  Using cached https://files.pythonhosted.org/packages/f8/9c/30bc244cedc571307efe0780d8195ffed5b08f09c94d23f50d6d5144ebc7/python-pptx-0.6.5.tar.gz\n",
      "Collecting docx2txt==0.6 (from textract)\n",
      "  Using cached https://files.pythonhosted.org/packages/aa/72/f02730ec3b0219d8f783a255416339b02ff8b6a300c817abf0505833212a/docx2txt-0.6.tar.gz\n",
      "Collecting beautifulsoup4==4.5.3 (from textract)\n",
      "  Using cached https://files.pythonhosted.org/packages/af/a3/9e803f838b3eeb313d45d916d4387cda8572c92e1aafeb53fd43ddb5da2c/beautifulsoup4-4.5.3-py3-none-any.whl\n",
      "Collecting xlrd==1.0.0 (from textract)\n",
      "  Using cached https://files.pythonhosted.org/packages/0c/b0/8946fe3f9c2690c164aaa88dfd43b56347d3cdeac34124b988acd1aaa151/xlrd-1.0.0-py3-none-any.whl\n",
      "Collecting EbookLib==0.15 (from textract)\n",
      "  Using cached https://files.pythonhosted.org/packages/04/30/2cbf65fa9587a1ecc66a78eea91f9189ead8fdadd5e009115bce34529aa6/EbookLib-0.15.tar.gz\n",
      "    Complete output from command python setup.py egg_info:\n",
      "    Traceback (most recent call last):\n",
      "      File \"<string>\", line 1, in <module>\n",
      "      File \"C:\\Users\\brenda\\AppData\\Local\\Temp\\pip-install-uxsw_44p\\EbookLib\\setup.py\", line 13, in <module>\n",
      "        long_description = open('README.md').read(),\n",
      "      File \"c:\\users\\brenda\\appdata\\local\\programs\\python\\python36\\lib\\encodings\\cp1252.py\", line 23, in decode\n",
      "        return codecs.charmap_decode(input,self.errors,decoding_table)[0]\n",
      "    UnicodeDecodeError: 'charmap' codec can't decode byte 0x8d in position 1671: character maps to <undefined>\n",
      "    \n",
      "    ----------------------------------------\n"
     ]
    },
    {
     "name": "stderr",
     "output_type": "stream",
     "text": [
      "Command \"python setup.py egg_info\" failed with error code 1 in C:\\Users\\brenda\\AppData\\Local\\Temp\\pip-install-uxsw_44p\\EbookLib\\\n"
     ]
    }
   ],
   "source": [
    "!pip install textract"
   ]
  },
  {
   "cell_type": "code",
   "execution_count": null,
   "metadata": {},
   "outputs": [],
   "source": []
  }
 ],
 "metadata": {
  "kernelspec": {
   "display_name": "Python 3",
   "language": "python",
   "name": "python3"
  },
  "language_info": {
   "codemirror_mode": {
    "name": "ipython",
    "version": 3
   },
   "file_extension": ".py",
   "mimetype": "text/x-python",
   "name": "python",
   "nbconvert_exporter": "python",
   "pygments_lexer": "ipython3",
   "version": "3.6.4"
  }
 },
 "nbformat": 4,
 "nbformat_minor": 2
}
